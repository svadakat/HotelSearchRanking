{
 "cells": [
  {
   "cell_type": "code",
   "execution_count": 4,
   "id": "85003b76",
   "metadata": {},
   "outputs": [],
   "source": [
    "import pandas as pd\n",
    "import numpy as np\n",
    "import random\n",
    "#from catboost import CatBoostRanker, Pool, MetricVisualizer\n",
    "from copy import deepcopy\n",
    "\n",
    "pd.set_option('display.max_columns', None)\n",
    "pd.set_option('display.max_rows', None)"
   ]
  },
  {
   "cell_type": "code",
   "execution_count": 5,
   "id": "2cb9d557",
   "metadata": {},
   "outputs": [],
   "source": [
    "HotelSearch_orig=pd.read_csv(\"/Users/sureshvadakath/Documents/Datasets/SearchRanking/HotelSearch_train.csv\")"
   ]
  },
  {
   "cell_type": "code",
   "execution_count": 7,
   "id": "9ac9f1dc",
   "metadata": {},
   "outputs": [
    {
     "name": "stdout",
     "output_type": "stream",
     "text": [
      "<class 'pandas.core.frame.DataFrame'>\n",
      "RangeIndex: 9917530 entries, 0 to 9917529\n",
      "Data columns (total 55 columns):\n",
      " #   Column                       Dtype         \n",
      "---  ------                       -----         \n",
      " 0   srch_id                      int64         \n",
      " 1   date_time                    datetime64[ns]\n",
      " 2   site_id                      int64         \n",
      " 3   visitor_location_country_id  int64         \n",
      " 4   visitor_hist_starrating      float64       \n",
      " 5   visitor_hist_adr_usd         float64       \n",
      " 6   prop_country_id              int64         \n",
      " 7   prop_id                      int64         \n",
      " 8   prop_starrating              int64         \n",
      " 9   prop_review_score            float64       \n",
      " 10  prop_brand_bool              int64         \n",
      " 11  prop_location_score1         float64       \n",
      " 12  prop_location_score2         float64       \n",
      " 13  prop_log_historical_price    float64       \n",
      " 14  position                     int64         \n",
      " 15  price_usd                    float64       \n",
      " 16  promotion_flag               int64         \n",
      " 17  srch_destination_id          int64         \n",
      " 18  srch_length_of_stay          int64         \n",
      " 19  srch_booking_window          int64         \n",
      " 20  srch_adults_count            int64         \n",
      " 21  srch_children_count          int64         \n",
      " 22  srch_room_count              int64         \n",
      " 23  srch_saturday_night_bool     int64         \n",
      " 24  srch_query_affinity_score    float64       \n",
      " 25  orig_destination_distance    float64       \n",
      " 26  random_bool                  int64         \n",
      " 27  comp1_rate                   float64       \n",
      " 28  comp1_inv                    float64       \n",
      " 29  comp1_rate_percent_diff      float64       \n",
      " 30  comp2_rate                   float64       \n",
      " 31  comp2_inv                    float64       \n",
      " 32  comp2_rate_percent_diff      float64       \n",
      " 33  comp3_rate                   float64       \n",
      " 34  comp3_inv                    float64       \n",
      " 35  comp3_rate_percent_diff      float64       \n",
      " 36  comp4_rate                   float64       \n",
      " 37  comp4_inv                    float64       \n",
      " 38  comp4_rate_percent_diff      float64       \n",
      " 39  comp5_rate                   float64       \n",
      " 40  comp5_inv                    float64       \n",
      " 41  comp5_rate_percent_diff      float64       \n",
      " 42  comp6_rate                   float64       \n",
      " 43  comp6_inv                    float64       \n",
      " 44  comp6_rate_percent_diff      float64       \n",
      " 45  comp7_rate                   float64       \n",
      " 46  comp7_inv                    float64       \n",
      " 47  comp7_rate_percent_diff      float64       \n",
      " 48  comp8_rate                   float64       \n",
      " 49  comp8_inv                    float64       \n",
      " 50  comp8_rate_percent_diff      float64       \n",
      " 51  click_bool                   int64         \n",
      " 52  gross_bookings_usd           float64       \n",
      " 53  booking_bool                 int64         \n",
      " 54  target                       int64         \n",
      "dtypes: datetime64[ns](1), float64(34), int64(20)\n",
      "memory usage: 4.1 GB\n"
     ]
    }
   ],
   "source": [
    "HotelSearch_orig.dtypes\n",
    "def get_target(row):\n",
    "    \"\"\"\n",
    "    0=not clicked at all, 1=clicked but not booked, 2=booked\n",
    "    \"\"\"\n",
    "#     if row.booking_bool>0:\n",
    "#         return 2\n",
    "#     if row.click_bool>0 :\n",
    "#         return 1\n",
    "#     return 0\n",
    "\n",
    "    if row.booking_bool>0:\n",
    "        return 1\n",
    "    return 0\n",
    "\n",
    "#print(HotelSearch_orig['booking_bool'].unique())\n",
    "HotelSearch_orig[\"date_time\"] = pd.to_datetime(HotelSearch_orig[\"date_time\"],infer_datetime_format=True)\n",
    "HotelSearch_orig[\"target\"] = HotelSearch_orig.apply(get_target,axis=1)\n",
    "\n",
    "HotelSearch_orig.info()"
   ]
  },
  {
   "cell_type": "code",
   "execution_count": 8,
   "id": "137bbb4b",
   "metadata": {},
   "outputs": [
    {
     "data": {
      "text/plain": [
       "(9917530, 55)"
      ]
     },
     "execution_count": 8,
     "metadata": {},
     "output_type": "execute_result"
    }
   ],
   "source": [
    "HotelSearch_all=HotelSearch_orig.dropna(axis=1,how=\"all\")\n",
    "HotelSearch_all.shape\n"
   ]
  },
  {
   "cell_type": "code",
   "execution_count": 9,
   "id": "e0ec3131",
   "metadata": {},
   "outputs": [
    {
     "name": "stdout",
     "output_type": "stream",
     "text": [
      "399344\n",
      "3993\n",
      "395351\n",
      "5930\n"
     ]
    },
    {
     "name": "stderr",
     "output_type": "stream",
     "text": [
      "/var/folders/kc/v7s5qpm17l14gx5297w1_6pw0000gn/T/ipykernel_87181/1782490068.py:6: DeprecationWarning: Sampling from a set deprecated\n",
      "since Python 3.9 and will be removed in a subsequent version.\n",
      "  test_sample_list = random.sample(test_sample_list_temp, int(len(test_sample_list_temp)*.015))\n"
     ]
    }
   ],
   "source": [
    "All_Searches=HotelSearch_all[\"srch_id\"].unique().tolist()\n",
    "training_sample_list = random.sample(All_Searches, int(len(All_Searches)*.01))\n",
    "print(len(All_Searches))\n",
    "print(len(training_sample_list))\n",
    "test_sample_list_temp=set(All_Searches) - set(training_sample_list)\n",
    "test_sample_list = random.sample(test_sample_list_temp, int(len(test_sample_list_temp)*.015))\n",
    "print(len(test_sample_list_temp))\n",
    "print(len(test_sample_list))\n",
    "#training_searches_array = np.array(training_sample_list)\n",
    "#test_searches_array = np.array(test_sample_list)\n"
   ]
  },
  {
   "cell_type": "code",
   "execution_count": 23,
   "id": "5c5bab71",
   "metadata": {},
   "outputs": [
    {
     "name": "stdout",
     "output_type": "stream",
     "text": [
      "(98361, 55)\n",
      "(147730, 55)\n"
     ]
    }
   ],
   "source": [
    "#HotelSearch_train = HotelSearch_all.groupby('srch_id').filter(lambda x: x[\"srch_id\"].values[0] in sampled_searches)\n",
    "HotelSearch_train_temp = HotelSearch_all[HotelSearch_all['srch_id'].isin(training_sample_list)]\n",
    "# Not in Test:  position, click_bool, gross_bookings_usd, nor booking_bool\n",
    "HotelSearch_test_temp = HotelSearch_all[HotelSearch_all['srch_id'].isin(test_sample_list)]\n",
    "print(HotelSearch_train_temp.shape)\n",
    "print(HotelSearch_test_temp.shape)\n",
    "\n"
   ]
  },
  {
   "cell_type": "code",
   "execution_count": 24,
   "id": "219b4949",
   "metadata": {},
   "outputs": [
    {
     "data": {
      "text/plain": [
       "(98361, 55)"
      ]
     },
     "execution_count": 24,
     "metadata": {},
     "output_type": "execute_result"
    }
   ],
   "source": [
    "HotelSearch_train_temp=HotelSearch_train_temp.sort_values(by=['srch_id','position'], ascending=True)\n",
    "HotelSearch_train_temp = HotelSearch_train_temp.reset_index(drop=True)\n",
    "HotelSearch_train_temp.shape"
   ]
  },
  {
   "cell_type": "code",
   "execution_count": 25,
   "id": "3e1f7e5a",
   "metadata": {},
   "outputs": [
    {
     "data": {
      "text/plain": [
       "(147730, 55)"
      ]
     },
     "execution_count": 25,
     "metadata": {},
     "output_type": "execute_result"
    }
   ],
   "source": [
    "HotelSearch_test_temp=HotelSearch_test_temp.sort_values(by=['srch_id','position'], ascending=True)\n",
    "HotelSearch_test_temp = HotelSearch_test_temp.reset_index(drop=True)\n",
    "HotelSearch_test_temp.shape"
   ]
  },
  {
   "cell_type": "code",
   "execution_count": 26,
   "id": "6288d85d",
   "metadata": {},
   "outputs": [
    {
     "data": {
      "text/plain": [
       "(98361, 55)"
      ]
     },
     "execution_count": 26,
     "metadata": {},
     "output_type": "execute_result"
    }
   ],
   "source": [
    "HotelSearch_train_temp.to_csv('./data/HotelSearch_train_sampled.csv')\n",
    "HotelSearch_test_temp.to_csv('./data/HotelSearch_test_sampled.csv')\n",
    "HotelSearch_train_temp.shape"
   ]
  },
  {
   "cell_type": "code",
   "execution_count": null,
   "id": "71439ad9",
   "metadata": {},
   "outputs": [],
   "source": []
  }
 ],
 "metadata": {
  "kernelspec": {
   "display_name": "Python 3 (ipykernel)",
   "language": "python",
   "name": "python3"
  },
  "language_info": {
   "codemirror_mode": {
    "name": "ipython",
    "version": 3
   },
   "file_extension": ".py",
   "mimetype": "text/x-python",
   "name": "python",
   "nbconvert_exporter": "python",
   "pygments_lexer": "ipython3",
   "version": "3.9.12"
  }
 },
 "nbformat": 4,
 "nbformat_minor": 5
}
