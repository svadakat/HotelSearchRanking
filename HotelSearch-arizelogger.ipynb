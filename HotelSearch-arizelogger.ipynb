{
 "cells": [
  {
   "cell_type": "code",
   "execution_count": 394,
   "id": "85003b76",
   "metadata": {},
   "outputs": [],
   "source": [
    "import pandas as pd\n",
    "import numpy as np\n",
    "\n",
    "import datetime\n",
    "import tempfile\n",
    "import uuid\n",
    "from datetime import timedelta\n",
    "import requests\n",
    "from arize.pandas.logger import Client, Schema\n",
    "from arize.utils.types import Environments, ModelTypes\n",
    "\n",
    "pd.set_option('display.max_columns', None)\n",
    "pd.set_option('display.max_rows', None)"
   ]
  },
  {
   "cell_type": "code",
   "execution_count": 395,
   "id": "e4ba02ec",
   "metadata": {},
   "outputs": [
    {
     "data": {
      "text/plain": [
       "(147730, 67)"
      ]
     },
     "execution_count": 395,
     "metadata": {},
     "output_type": "execute_result"
    }
   ],
   "source": [
    "HotelSearch_train=pd.read_csv(\"./data/hotelsearch_training_predictions.csv\", index_col=0)\n",
    "HotelSearch_test=pd.read_csv(\"./data/hotelsearch_test_predictions.csv\", index_col=0)\n",
    "\n",
    "# HotelSearch_train[\"PredictedRelevancy\"]=round(HotelSearch_train[\"PredictedRelevancy\"],4)\n",
    "# HotelSearch_test[\"PredictedRelevancy\"]=round(HotelSearch_test[\"PredictedRelevancy\"],4)\n",
    "\n",
    "#HotelSearch_train[\"ActualRelevancyScore\"].value_counts()\n",
    "HotelSearch_train[\"prediction_ts\"] = pd.to_datetime(HotelSearch_train[\"prediction_ts\"],infer_datetime_format=True)\n",
    "HotelSearch_test[\"prediction_ts\"] = pd.to_datetime(HotelSearch_test[\"prediction_ts\"],infer_datetime_format=True)\n",
    "\n",
    "#HotelSearch_test.info()\n",
    "a=HotelSearch_test\n",
    "a.shape\n"
   ]
  },
  {
   "cell_type": "code",
   "execution_count": 396,
   "id": "e5c35583",
   "metadata": {},
   "outputs": [
    {
     "data": {
      "text/plain": [
       "Timestamp('2013-06-30 23:36:35')"
      ]
     },
     "execution_count": 396,
     "metadata": {},
     "output_type": "execute_result"
    }
   ],
   "source": [
    "HotelSearch_test[\"prediction_ts\"].max()"
   ]
  },
  {
   "cell_type": "code",
   "execution_count": 397,
   "id": "10058e34",
   "metadata": {},
   "outputs": [],
   "source": [
    "def transpose(df):\n",
    "    return pd.DataFrame(\n",
    "        {\"sequence\": [df[\"ActualRelevancyScore\"].tolist()] + [None] * (len(df) - 1)}, index=df.index\n",
    "    )\n",
    "\n",
    "\n",
    "HotelSearch_train = pd.concat([HotelSearch_train, HotelSearch_train.groupby(\"srch_id\").apply(transpose)], axis=1)\n",
    "HotelSearch_test = pd.concat([HotelSearch_test, HotelSearch_test.groupby(\"srch_id\").apply(transpose)], axis=1)\n"
   ]
  },
  {
   "cell_type": "code",
   "execution_count": 398,
   "id": "a1ab89db",
   "metadata": {
    "scrolled": true
   },
   "outputs": [],
   "source": [
    "#HotelSearch_train[[\"srch_id\",\"site_id\",\"position\",\"ActualRelevancyScore\",\"PredictedRelevancyScore\",\"Predictedrank\",\"Not_Relevant_prob\",\"Yes_Relevant_prob\",\"RelevanceLabelPrediction\",\"sequence\"]][HotelSearch_train.srch_id ==71]"
   ]
  },
  {
   "cell_type": "code",
   "execution_count": 399,
   "id": "080e2cfb",
   "metadata": {
    "scrolled": true
   },
   "outputs": [],
   "source": [
    "#HotelSearch_test[[\"srch_id\",\"site_id\",\"position\",\"ActualRelevancyScore\",\"PredictedRelevancyScore\",\"Predictedrank\",\"Not_Relevant_prob\",\"Yes_Relevant_prob\",\"RelevanceLabelPrediction\",\"sequence\"]][HotelSearch_test.srch_id ==246]"
   ]
  },
  {
   "cell_type": "code",
   "execution_count": 400,
   "id": "bb5b8240",
   "metadata": {},
   "outputs": [
    {
     "name": "stdout",
     "output_type": "stream",
     "text": [
      "<class 'pandas.core.frame.DataFrame'>\n",
      "Int64Index: 147730 entries, 0 to 147729\n",
      "Data columns (total 68 columns):\n",
      " #   Column                       Non-Null Count   Dtype         \n",
      "---  ------                       --------------   -----         \n",
      " 0   srch_id                      147730 non-null  int64         \n",
      " 1   site_id                      147730 non-null  int64         \n",
      " 2   visitor_location_country_id  147730 non-null  int64         \n",
      " 3   visitor_hist_starrating      7770 non-null    float64       \n",
      " 4   visitor_hist_adr_usd         7801 non-null    float64       \n",
      " 5   prop_country_id              147730 non-null  int64         \n",
      " 6   prop_id                      147730 non-null  int64         \n",
      " 7   prop_starrating              147730 non-null  int64         \n",
      " 8   prop_review_score            147499 non-null  float64       \n",
      " 9   prop_brand_bool              147730 non-null  int64         \n",
      " 10  prop_location_score1         147730 non-null  float64       \n",
      " 11  prop_location_score2         116628 non-null  float64       \n",
      " 12  prop_log_historical_price    147730 non-null  float64       \n",
      " 13  position                     147730 non-null  int64         \n",
      " 14  price_usd                    147730 non-null  float64       \n",
      " 15  promotion_flag               147730 non-null  int64         \n",
      " 16  srch_destination_id          147730 non-null  int64         \n",
      " 17  srch_length_of_stay          147730 non-null  int64         \n",
      " 18  srch_booking_window          147730 non-null  int64         \n",
      " 19  srch_adults_count            147730 non-null  int64         \n",
      " 20  srch_children_count          147730 non-null  int64         \n",
      " 21  srch_room_count              147730 non-null  int64         \n",
      " 22  srch_saturday_night_bool     147730 non-null  int64         \n",
      " 23  srch_query_affinity_score    9108 non-null    float64       \n",
      " 24  orig_destination_distance    98669 non-null   float64       \n",
      " 25  comp1_rate                   3696 non-null    float64       \n",
      " 26  comp1_inv                    3940 non-null    float64       \n",
      " 27  comp1_rate_percent_diff      2892 non-null    float64       \n",
      " 28  comp2_rate                   60786 non-null   float64       \n",
      " 29  comp2_inv                    63943 non-null   float64       \n",
      " 30  comp2_rate_percent_diff      16598 non-null   float64       \n",
      " 31  comp3_rate                   45930 non-null   float64       \n",
      " 32  comp3_inv                    49557 non-null   float64       \n",
      " 33  comp3_rate_percent_diff      14168 non-null   float64       \n",
      " 34  comp4_rate                   9345 non-null    float64       \n",
      " 35  comp4_inv                    10396 non-null   float64       \n",
      " 36  comp4_rate_percent_diff      3985 non-null    float64       \n",
      " 37  comp5_rate                   66135 non-null   float64       \n",
      " 38  comp5_inv                    70180 non-null   float64       \n",
      " 39  comp5_rate_percent_diff      24933 non-null   float64       \n",
      " 40  comp6_rate                   7002 non-null    float64       \n",
      " 41  comp6_inv                    7605 non-null    float64       \n",
      " 42  comp6_rate_percent_diff      2834 non-null    float64       \n",
      " 43  comp7_rate                   9588 non-null    float64       \n",
      " 44  comp7_inv                    10821 non-null   float64       \n",
      " 45  comp7_rate_percent_diff      4184 non-null    float64       \n",
      " 46  comp8_rate                   57519 non-null   float64       \n",
      " 47  comp8_inv                    59736 non-null   float64       \n",
      " 48  comp8_rate_percent_diff      18292 non-null   float64       \n",
      " 49  predictionid                 147730 non-null  int64         \n",
      " 50  day                          147730 non-null  int64         \n",
      " 51  weekday                      147730 non-null  int64         \n",
      " 52  week_of_year                 147730 non-null  int64         \n",
      " 53  hour                         147730 non-null  int64         \n",
      " 54  minute                       147730 non-null  int64         \n",
      " 55  time_epoch                   147730 non-null  float64       \n",
      " 56  early_night                  147730 non-null  bool          \n",
      " 57  ActualRelevancyScore         147730 non-null  float64       \n",
      " 58  ActualRelevancy              147730 non-null  object        \n",
      " 59  PredictedRelevancyScore      147730 non-null  float64       \n",
      " 60  prediction_ts                147730 non-null  datetime64[ns]\n",
      " 61  Predictedrank                147730 non-null  float64       \n",
      " 62  Not_Relevant_prob            147730 non-null  float64       \n",
      " 63  Yes_Relevant_prob            147730 non-null  float64       \n",
      " 64  RelevanceLabelPrediction     147730 non-null  float64       \n",
      " 65  PredictedRelevancy           147730 non-null  object        \n",
      " 66  PredictedScore               147730 non-null  float64       \n",
      " 67  sequence                     5930 non-null    object        \n",
      "dtypes: bool(1), datetime64[ns](1), float64(41), int64(22), object(3)\n",
      "memory usage: 76.8+ MB\n"
     ]
    }
   ],
   "source": [
    "HotelSearch_test.info()"
   ]
  },
  {
   "cell_type": "code",
   "execution_count": 401,
   "id": "3a4d5800",
   "metadata": {},
   "outputs": [],
   "source": [
    "#HotelSearch_train.info()"
   ]
  },
  {
   "cell_type": "code",
   "execution_count": 402,
   "id": "266d4eae",
   "metadata": {},
   "outputs": [
    {
     "name": "stdout",
     "output_type": "stream",
     "text": [
      "(147730, 62)\n",
      "(92451, 62)\n"
     ]
    }
   ],
   "source": [
    "drop_cols=['PredictedRelevancyScore', 'Predictedrank',\n",
    "       'Not_Relevant_prob', 'Yes_Relevant_prob','RelevanceLabelPrediction','prediction_ts']\n",
    "HotelSearch_test = HotelSearch_test.drop(columns=drop_cols,errors=\"ignore\")\n",
    "#HotelSearch_test['PredictedRelevancy'].value_counts()\n",
    "HotelSearch_train = HotelSearch_train.drop(columns=drop_cols,errors=\"ignore\")\n",
    "#HotelSearch_train['PredictedRelevancy'].value_counts()\n",
    "print(HotelSearch_test.shape)\n",
    "print(HotelSearch_train.shape)"
   ]
  },
  {
   "cell_type": "code",
   "execution_count": 411,
   "id": "4c20f42d",
   "metadata": {},
   "outputs": [
    {
     "ename": "KeyError",
     "evalue": "'day'",
     "output_type": "error",
     "traceback": [
      "\u001b[0;31m---------------------------------------------------------------------------\u001b[0m",
      "\u001b[0;31mKeyError\u001b[0m                                  Traceback (most recent call last)",
      "File \u001b[0;32m~/opt/anaconda3/lib/python3.9/site-packages/pandas/core/indexes/base.py:3621\u001b[0m, in \u001b[0;36mIndex.get_loc\u001b[0;34m(self, key, method, tolerance)\u001b[0m\n\u001b[1;32m   3620\u001b[0m \u001b[38;5;28;01mtry\u001b[39;00m:\n\u001b[0;32m-> 3621\u001b[0m     \u001b[38;5;28;01mreturn\u001b[39;00m \u001b[38;5;28;43mself\u001b[39;49m\u001b[38;5;241;43m.\u001b[39;49m\u001b[43m_engine\u001b[49m\u001b[38;5;241;43m.\u001b[39;49m\u001b[43mget_loc\u001b[49m\u001b[43m(\u001b[49m\u001b[43mcasted_key\u001b[49m\u001b[43m)\u001b[49m\n\u001b[1;32m   3622\u001b[0m \u001b[38;5;28;01mexcept\u001b[39;00m \u001b[38;5;167;01mKeyError\u001b[39;00m \u001b[38;5;28;01mas\u001b[39;00m err:\n",
      "File \u001b[0;32m~/opt/anaconda3/lib/python3.9/site-packages/pandas/_libs/index.pyx:136\u001b[0m, in \u001b[0;36mpandas._libs.index.IndexEngine.get_loc\u001b[0;34m()\u001b[0m\n",
      "File \u001b[0;32m~/opt/anaconda3/lib/python3.9/site-packages/pandas/_libs/index.pyx:163\u001b[0m, in \u001b[0;36mpandas._libs.index.IndexEngine.get_loc\u001b[0;34m()\u001b[0m\n",
      "File \u001b[0;32mpandas/_libs/hashtable_class_helper.pxi:5198\u001b[0m, in \u001b[0;36mpandas._libs.hashtable.PyObjectHashTable.get_item\u001b[0;34m()\u001b[0m\n",
      "File \u001b[0;32mpandas/_libs/hashtable_class_helper.pxi:5206\u001b[0m, in \u001b[0;36mpandas._libs.hashtable.PyObjectHashTable.get_item\u001b[0;34m()\u001b[0m\n",
      "\u001b[0;31mKeyError\u001b[0m: 'day'",
      "\nThe above exception was the direct cause of the following exception:\n",
      "\u001b[0;31mKeyError\u001b[0m                                  Traceback (most recent call last)",
      "Input \u001b[0;32mIn [411]\u001b[0m, in \u001b[0;36m<cell line: 1>\u001b[0;34m()\u001b[0m\n\u001b[0;32m----> 1\u001b[0m \u001b[38;5;28mprint\u001b[39m(HotelSearch_train\u001b[38;5;241m.\u001b[39mloc[\u001b[43mHotelSearch_test\u001b[49m\u001b[43m[\u001b[49m\u001b[38;5;124;43m\"\u001b[39;49m\u001b[38;5;124;43mday\u001b[39;49m\u001b[38;5;124;43m\"\u001b[39;49m\u001b[43m]\u001b[49m \u001b[38;5;241m==\u001b[39m \u001b[38;5;241m30\u001b[39m]\u001b[38;5;241m.\u001b[39mshape)\n\u001b[1;32m      3\u001b[0m HotelSearch_train\u001b[38;5;241m.\u001b[39minfo()\n",
      "File \u001b[0;32m~/opt/anaconda3/lib/python3.9/site-packages/pandas/core/frame.py:3505\u001b[0m, in \u001b[0;36mDataFrame.__getitem__\u001b[0;34m(self, key)\u001b[0m\n\u001b[1;32m   3503\u001b[0m \u001b[38;5;28;01mif\u001b[39;00m \u001b[38;5;28mself\u001b[39m\u001b[38;5;241m.\u001b[39mcolumns\u001b[38;5;241m.\u001b[39mnlevels \u001b[38;5;241m>\u001b[39m \u001b[38;5;241m1\u001b[39m:\n\u001b[1;32m   3504\u001b[0m     \u001b[38;5;28;01mreturn\u001b[39;00m \u001b[38;5;28mself\u001b[39m\u001b[38;5;241m.\u001b[39m_getitem_multilevel(key)\n\u001b[0;32m-> 3505\u001b[0m indexer \u001b[38;5;241m=\u001b[39m \u001b[38;5;28;43mself\u001b[39;49m\u001b[38;5;241;43m.\u001b[39;49m\u001b[43mcolumns\u001b[49m\u001b[38;5;241;43m.\u001b[39;49m\u001b[43mget_loc\u001b[49m\u001b[43m(\u001b[49m\u001b[43mkey\u001b[49m\u001b[43m)\u001b[49m\n\u001b[1;32m   3506\u001b[0m \u001b[38;5;28;01mif\u001b[39;00m is_integer(indexer):\n\u001b[1;32m   3507\u001b[0m     indexer \u001b[38;5;241m=\u001b[39m [indexer]\n",
      "File \u001b[0;32m~/opt/anaconda3/lib/python3.9/site-packages/pandas/core/indexes/base.py:3623\u001b[0m, in \u001b[0;36mIndex.get_loc\u001b[0;34m(self, key, method, tolerance)\u001b[0m\n\u001b[1;32m   3621\u001b[0m     \u001b[38;5;28;01mreturn\u001b[39;00m \u001b[38;5;28mself\u001b[39m\u001b[38;5;241m.\u001b[39m_engine\u001b[38;5;241m.\u001b[39mget_loc(casted_key)\n\u001b[1;32m   3622\u001b[0m \u001b[38;5;28;01mexcept\u001b[39;00m \u001b[38;5;167;01mKeyError\u001b[39;00m \u001b[38;5;28;01mas\u001b[39;00m err:\n\u001b[0;32m-> 3623\u001b[0m     \u001b[38;5;28;01mraise\u001b[39;00m \u001b[38;5;167;01mKeyError\u001b[39;00m(key) \u001b[38;5;28;01mfrom\u001b[39;00m \u001b[38;5;21;01merr\u001b[39;00m\n\u001b[1;32m   3624\u001b[0m \u001b[38;5;28;01mexcept\u001b[39;00m \u001b[38;5;167;01mTypeError\u001b[39;00m:\n\u001b[1;32m   3625\u001b[0m     \u001b[38;5;66;03m# If we have a listlike key, _check_indexing_error will raise\u001b[39;00m\n\u001b[1;32m   3626\u001b[0m     \u001b[38;5;66;03m#  InvalidIndexError. Otherwise we fall through and re-raise\u001b[39;00m\n\u001b[1;32m   3627\u001b[0m     \u001b[38;5;66;03m#  the TypeError.\u001b[39;00m\n\u001b[1;32m   3628\u001b[0m     \u001b[38;5;28mself\u001b[39m\u001b[38;5;241m.\u001b[39m_check_indexing_error(key)\n",
      "\u001b[0;31mKeyError\u001b[0m: 'day'"
     ]
    }
   ],
   "source": [
    "print(HotelSearch_train.loc[HotelSearch_test[\"day\"] == 30].shape)\n",
    "\n",
    "HotelSearch_train.info()"
   ]
  },
  {
   "cell_type": "code",
   "execution_count": 404,
   "id": "137ea14a",
   "metadata": {
    "scrolled": true
   },
   "outputs": [],
   "source": [
    "HotelSearch_train.columns\n",
    "feature_column_names=[ 'visitor_location_country_id',\n",
    "       'visitor_hist_starrating', 'visitor_hist_adr_usd', 'prop_country_id',\n",
    "       'prop_starrating', 'prop_review_score', 'prop_brand_bool',\n",
    "       'prop_location_score1', 'prop_location_score2',\n",
    "       'prop_log_historical_price',  'price_usd', 'promotion_flag',\n",
    "       'srch_destination_id', 'srch_length_of_stay', 'srch_booking_window',\n",
    "       'srch_adults_count', 'srch_children_count', 'srch_room_count',\n",
    "       'srch_saturday_night_bool', 'srch_query_affinity_score',\n",
    "       'orig_destination_distance', 'comp1_rate', 'comp1_inv',\n",
    "       'comp1_rate_percent_diff', 'comp2_rate', 'comp2_inv',\n",
    "       'comp2_rate_percent_diff', 'comp3_rate', 'comp3_inv',\n",
    "       'comp3_rate_percent_diff', 'comp4_rate', 'comp4_inv',\n",
    "       'comp4_rate_percent_diff', 'comp5_rate', 'comp5_inv',\n",
    "       'comp5_rate_percent_diff', 'comp6_rate', 'comp6_inv',\n",
    "       'comp6_rate_percent_diff', 'comp7_rate', 'comp7_inv',\n",
    "       'comp7_rate_percent_diff', 'comp8_rate', 'comp8_inv',\n",
    "       'comp8_rate_percent_diff',   'weekday',\n",
    "       'week_of_year', 'hour', 'minute', 'time_epoch', 'early_night'\n",
    "       ]\n",
    "tag_column_names = ['srch_id','position','site_id','prop_id','predictionid']"
   ]
  },
  {
   "cell_type": "code",
   "execution_count": 405,
   "id": "1bf46266",
   "metadata": {},
   "outputs": [],
   "source": [
    "#HotelSearch_test.head()"
   ]
  },
  {
   "cell_type": "code",
   "execution_count": 408,
   "id": "3feb7589",
   "metadata": {},
   "outputs": [
    {
     "name": "stdout",
     "output_type": "stream",
     "text": [
      "Step 2 ✅: Import and Setup Arize Client Done! Now we can start using Arize!\n"
     ]
    }
   ],
   "source": [
    "\n",
    "SPACE_KEY = \"7ad2a2b\"\n",
    "API_KEY = \"35950bc0ad321270af8\"\n",
    "\n",
    "arize_client = Client(space_key=SPACE_KEY, api_key=API_KEY)\n",
    "\n",
    "model_id = \"HotelSearchRankingv2\"\n",
    "model_version = \"1.0\"\n",
    "model_type = ModelTypes.SCORE_CATEGORICAL\n",
    "\n",
    "if SPACE_KEY == \"\" or API_KEY == \"\":\n",
    "    raise ValueError(\"❌ NEED TO CHANGE SPACE AND/OR API_KEY\")\n",
    "else:\n",
    "    print(\"Step 2 ✅: Import and Setup Arize Client Done! Now we can start using Arize!\")"
   ]
  },
  {
   "cell_type": "code",
   "execution_count": 409,
   "id": "adb2867d",
   "metadata": {},
   "outputs": [
    {
     "name": "stdout",
     "output_type": "stream",
     "text": [
      "Success! Check out your data at https://app.arize.com/organizations/QWNjb3VudE9yZ2FuaXphdGlvbjo2Nzk=/spaces/U3BhY2U6NzEx/models/modelName/HotelSearchRankingv2?selectedTab=dataIngestion\n",
      "✅ You have successfully logged training set to Arize\n"
     ]
    }
   ],
   "source": [
    "# Define a Schema() object for Arize to pick up data from the correct columns for logging\n",
    "training_schema = Schema(\n",
    "    prediction_id_column_name=\"predictionid\",\n",
    "    prediction_label_column_name=\"PredictedRelevancy\",\n",
    "    prediction_score_column_name=\"PredictedScore\",\n",
    "    actual_label_column_name=\"ActualRelevancy\",\n",
    "    actual_score_column_name=\"ActualRelevancyScore\",\n",
    "    actual_numeric_sequence_column_name=\"sequence\",\n",
    "    feature_column_names=feature_column_names,\n",
    "    tag_column_names = tag_column_names,\n",
    ")\n",
    "\n",
    "# Logging Training DataFrame\n",
    "training_response = arize_client.log(\n",
    "    dataframe=HotelSearch_train,\n",
    "    model_id=model_id,\n",
    "    model_version=model_version,\n",
    "    model_type=ModelTypes.SCORE_CATEGORICAL,\n",
    "    environment=Environments.TRAINING,\n",
    "    schema=training_schema,\n",
    ")\n",
    "\n",
    "# If successful, the server will return a status_code of 200\n",
    "if training_response.status_code != 200:\n",
    "    print(\n",
    "        f\"logging failed with response code {training_response.status_code}, {training_response.text}\"\n",
    "    )\n",
    "else:\n",
    "    print(f\"✅ You have successfully logged training set to Arize\")"
   ]
  },
  {
   "cell_type": "code",
   "execution_count": 410,
   "id": "9db2a0a5",
   "metadata": {},
   "outputs": [
    {
     "name": "stdout",
     "output_type": "stream",
     "text": [
      "[datetime.datetime(2022, 4, 30, 0, 0), datetime.datetime(2022, 5, 1, 0, 0), datetime.datetime(2022, 5, 2, 0, 0), datetime.datetime(2022, 5, 3, 0, 0), datetime.datetime(2022, 5, 4, 0, 0), datetime.datetime(2022, 5, 5, 0, 0), datetime.datetime(2022, 5, 6, 0, 0), datetime.datetime(2022, 5, 7, 0, 0), datetime.datetime(2022, 5, 8, 0, 0), datetime.datetime(2022, 5, 9, 0, 0), datetime.datetime(2022, 5, 10, 0, 0), datetime.datetime(2022, 5, 11, 0, 0), datetime.datetime(2022, 5, 12, 0, 0), datetime.datetime(2022, 5, 13, 0, 0), datetime.datetime(2022, 5, 14, 0, 0), datetime.datetime(2022, 5, 15, 0, 0), datetime.datetime(2022, 5, 16, 0, 0), datetime.datetime(2022, 5, 17, 0, 0), datetime.datetime(2022, 5, 18, 0, 0), datetime.datetime(2022, 5, 19, 0, 0), datetime.datetime(2022, 5, 20, 0, 0), datetime.datetime(2022, 5, 21, 0, 0), datetime.datetime(2022, 5, 22, 0, 0), datetime.datetime(2022, 5, 23, 0, 0), datetime.datetime(2022, 5, 24, 0, 0), datetime.datetime(2022, 5, 25, 0, 0), datetime.datetime(2022, 5, 26, 0, 0), datetime.datetime(2022, 5, 27, 0, 0), datetime.datetime(2022, 5, 28, 0, 0), datetime.datetime(2022, 5, 29, 0, 0), datetime.datetime(2022, 5, 30, 0, 0), datetime.datetime(2022, 5, 31, 0, 0)]\n"
     ]
    },
    {
     "data": {
      "text/plain": [
       "(151850, 62)"
      ]
     },
     "execution_count": 410,
     "metadata": {},
     "output_type": "execute_result"
    }
   ],
   "source": [
    "# # changing dates for ease of visualization / to mimic recent produciton dataset\n",
    "END_DATE = datetime.date.today().strftime(\"%Y-%m-%d\")\n",
    "START_DATE = (datetime.date.today() - timedelta(31)).strftime(\"%Y-%m-%d\")\n",
    "\n",
    "\n",
    "def setPredictionIDandTime(df, start, end):\n",
    "    out_df = pd.DataFrame()\n",
    "    dts = pd.date_range(start, end).to_pydatetime().tolist()\n",
    "    print(dts)\n",
    "    for dt in dts:\n",
    "#        print(df[\"day\"])\n",
    "        day_df = df.loc[df[\"day\"] == dt.day].copy()\n",
    "        day_df[\"prediction_ts\"] = int(dt.strftime(\"%s\"))\n",
    "        out_df = pd.concat([out_df, day_df], ignore_index=True)\n",
    "        if dt == 1:\n",
    "            print(out_df.shape)\n",
    "#    out_df[\"prediction_id\"] = [str(uuid.uuid4()) for _ in range(out_df.shape[0])]\n",
    "    return out_df.drop(columns=\"day\")\n",
    "\n",
    "\n",
    "HotelSearch_test = setPredictionIDandTime(HotelSearch_test, START_DATE, END_DATE)\n",
    "\n",
    "HotelSearch_test.shape"
   ]
  },
  {
   "cell_type": "code",
   "execution_count": 412,
   "id": "9d24e0ed",
   "metadata": {},
   "outputs": [
    {
     "name": "stdout",
     "output_type": "stream",
     "text": [
      "Success! Check out your data at https://app.arize.com/organizations/QWNjb3VudE9yZ2FuaXphdGlvbjo2Nzk=/spaces/U3BhY2U6NzEx/models/modelName/HotelSearchRankingv2?selectedTab=dataIngestion\n",
      "✅ You have successfully logged production set to Arize\n"
     ]
    }
   ],
   "source": [
    "production_schema = Schema(\n",
    "    prediction_id_column_name=\"predictionid\",\n",
    "    timestamp_column_name=\"prediction_ts\",\n",
    "    prediction_label_column_name=\"PredictedRelevancy\",\n",
    "    prediction_score_column_name=\"PredictedScore\",\n",
    "    actual_label_column_name=\"ActualRelevancy\",\n",
    "    actual_score_column_name=\"ActualRelevancyScore\",\n",
    "    actual_numeric_sequence_column_name=\"sequence\",\n",
    "    feature_column_names=feature_column_names,\n",
    "#    shap_values_column_names=dict(zip(feature_column_names, shap_column_names)),\n",
    "    tag_column_names = tag_column_names,\n",
    ")\n",
    "\n",
    "production_response = arize_client.log(\n",
    "    dataframe=HotelSearch_test,\n",
    "    model_id=model_id,\n",
    "    model_version=model_version,\n",
    "    model_type=ModelTypes.SCORE_CATEGORICAL,\n",
    "    environment=Environments.PRODUCTION,\n",
    "    schema=production_schema,\n",
    ")\n",
    "\n",
    "if production_response.status_code != 200:\n",
    "    print(\n",
    "        f\"logging failed with response code {production_response.status_code}, {production_response.text}\"\n",
    "    )\n",
    "else:\n",
    "    print(f\"✅ You have successfully logged production set to Arize\")"
   ]
  },
  {
   "cell_type": "code",
   "execution_count": 360,
   "id": "c3c6ee6d",
   "metadata": {},
   "outputs": [
    {
     "name": "stdout",
     "output_type": "stream",
     "text": [
      "<class 'pandas.core.frame.DataFrame'>\n",
      "RangeIndex: 154703 entries, 0 to 154702\n",
      "Data columns (total 64 columns):\n",
      " #   Column                       Non-Null Count   Dtype  \n",
      "---  ------                       --------------   -----  \n",
      " 0   srch_id                      154703 non-null  int64  \n",
      " 1   site_id                      154703 non-null  int64  \n",
      " 2   visitor_location_country_id  154703 non-null  int64  \n",
      " 3   visitor_hist_starrating      8245 non-null    float64\n",
      " 4   visitor_hist_adr_usd         8276 non-null    float64\n",
      " 5   prop_country_id              154703 non-null  int64  \n",
      " 6   prop_id                      154703 non-null  int64  \n",
      " 7   prop_starrating              154703 non-null  int64  \n",
      " 8   prop_review_score            154470 non-null  float64\n",
      " 9   prop_brand_bool              154703 non-null  int64  \n",
      " 10  prop_location_score1         154703 non-null  float64\n",
      " 11  prop_location_score2         122095 non-null  float64\n",
      " 12  prop_log_historical_price    154703 non-null  float64\n",
      " 13  position                     154703 non-null  int64  \n",
      " 14  price_usd                    154703 non-null  float64\n",
      " 15  promotion_flag               154703 non-null  int64  \n",
      " 16  srch_destination_id          154703 non-null  int64  \n",
      " 17  srch_length_of_stay          154703 non-null  int64  \n",
      " 18  srch_booking_window          154703 non-null  int64  \n",
      " 19  srch_adults_count            154703 non-null  int64  \n",
      " 20  srch_children_count          154703 non-null  int64  \n",
      " 21  srch_room_count              154703 non-null  int64  \n",
      " 22  srch_saturday_night_bool     154703 non-null  int64  \n",
      " 23  srch_query_affinity_score    9515 non-null    float64\n",
      " 24  orig_destination_distance    103513 non-null  float64\n",
      " 25  random_bool                  154703 non-null  int64  \n",
      " 26  comp1_rate                   3800 non-null    float64\n",
      " 27  comp1_inv                    4038 non-null    float64\n",
      " 28  comp1_rate_percent_diff      2963 non-null    float64\n",
      " 29  comp2_rate                   63548 non-null   float64\n",
      " 30  comp2_inv                    66836 non-null   float64\n",
      " 31  comp2_rate_percent_diff      17349 non-null   float64\n",
      " 32  comp3_rate                   48178 non-null   float64\n",
      " 33  comp3_inv                    51967 non-null   float64\n",
      " 34  comp3_rate_percent_diff      14809 non-null   float64\n",
      " 35  comp4_rate                   9816 non-null    float64\n",
      " 36  comp4_inv                    10902 non-null   float64\n",
      " 37  comp4_rate_percent_diff      4205 non-null    float64\n",
      " 38  comp5_rate                   69041 non-null   float64\n",
      " 39  comp5_inv                    73268 non-null   float64\n",
      " 40  comp5_rate_percent_diff      26080 non-null   float64\n",
      " 41  comp6_rate                   7181 non-null    float64\n",
      " 42  comp6_inv                    7797 non-null    float64\n",
      " 43  comp6_rate_percent_diff      2923 non-null    float64\n",
      " 44  comp7_rate                   10003 non-null   float64\n",
      " 45  comp7_inv                    11275 non-null   float64\n",
      " 46  comp7_rate_percent_diff      4347 non-null    float64\n",
      " 47  comp8_rate                   60290 non-null   float64\n",
      " 48  comp8_inv                    62596 non-null   float64\n",
      " 49  comp8_rate_percent_diff      19092 non-null   float64\n",
      " 50  predictionid                 154703 non-null  int64  \n",
      " 51  weekday                      154703 non-null  int64  \n",
      " 52  week_of_year                 154703 non-null  int64  \n",
      " 53  hour                         154703 non-null  int64  \n",
      " 54  minute                       154703 non-null  int64  \n",
      " 55  time_epoch                   154703 non-null  float64\n",
      " 56  early_night                  154703 non-null  bool   \n",
      " 57  nans_count                   154703 non-null  int64  \n",
      " 58  ActualRelevancyScore         154703 non-null  float64\n",
      " 59  ActualRelevancy              154703 non-null  object \n",
      " 60  PredictedRelevancy           154703 non-null  object \n",
      " 61  PredictedScore               154703 non-null  float64\n",
      " 62  sequence                     6202 non-null    object \n",
      " 63  prediction_ts                154703 non-null  int64  \n",
      "dtypes: bool(1), float64(36), int64(24), object(3)\n",
      "memory usage: 74.5+ MB\n"
     ]
    }
   ],
   "source": [
    "HotelSearch_test.info()"
   ]
  },
  {
   "cell_type": "code",
   "execution_count": null,
   "id": "c6f54688",
   "metadata": {},
   "outputs": [],
   "source": []
  }
 ],
 "metadata": {
  "kernelspec": {
   "display_name": "Python 3 (ipykernel)",
   "language": "python",
   "name": "python3"
  },
  "language_info": {
   "codemirror_mode": {
    "name": "ipython",
    "version": 3
   },
   "file_extension": ".py",
   "mimetype": "text/x-python",
   "name": "python",
   "nbconvert_exporter": "python",
   "pygments_lexer": "ipython3",
   "version": "3.9.12"
  }
 },
 "nbformat": 4,
 "nbformat_minor": 5
}
